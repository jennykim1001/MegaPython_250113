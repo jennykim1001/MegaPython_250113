{
  "nbformat": 4,
  "nbformat_minor": 0,
  "metadata": {
    "colab": {
      "provenance": [],
      "authorship_tag": "ABX9TyOTjsFI6ShEQVzuheQIH7/x"
    },
    "kernelspec": {
      "name": "python3",
      "display_name": "Python 3"
    },
    "language_info": {
      "name": "python"
    }
  },
  "cells": [
    {
      "cell_type": "markdown",
      "source": [
        "## 복습\n",
        "* 변수 : 데이터가 저장되는 공간\n",
        "* 출력문 : print()\n",
        "  - f-string 이용 : print(f'{변수:표시형식}') 예) %.1f\n",
        "* 입력문 : input()\n",
        "  - input('메시지') : 문자열 입력\n",
        "  - int(), float(): 숫자형으로 변환을 해서 계산\n",
        "* 조건문 : if문, if ~ else문, if ~ elif ~ else문\n"
      ],
      "metadata": {
        "id": "ad6jw6gaPsqd"
      }
    },
    {
      "cell_type": "code",
      "execution_count": null,
      "metadata": {
        "colab": {
          "base_uri": "https://localhost:8080/"
        },
        "id": "ZmG5ER2wPj97",
        "outputId": "ae9f932b-7d49-474d-b655-2985c956ec71"
      },
      "outputs": [
        {
          "name": "stdout",
          "output_type": "stream",
          "text": [
            "주간근무(1), 야간근무(2) 입력>> 33\n",
            "근무시간 입력 >> 333\n"
          ]
        }
      ],
      "source": [
        "# 주간 또는 야간 근무 시간에 따라 아르바이트 급여를 계산하는 프로그램을 작성하세요\n",
        "# 시급 : 9,500원\n",
        "# 주간 급여 :  근무시간  *  시급\n",
        "# 야간 급여 :  주간 급여 * 1.5\n",
        "\n",
        "#데이터 입력\n",
        "daynight = int(input('주간근무(1), 야간근무(2) 입력>> '))\n",
        "worktime = int(input('근무시간 입력 >> '))\n",
        "\n",
        "#데이터 처리\n",
        "if daynight == 1:\n",
        "  money = worktime * 9500\n",
        "  worktype = '주간'\n",
        "elif daynight == 2:\n",
        "  money = (worktime * 9500) * 2\n",
        "  worktype = '야간'\n",
        "else:\n",
        "  money = 0\n",
        "\n",
        "# 출력\n",
        "if money !=0:\n",
        "  print(f'{worktime}시간 근무동안 일한 {worktype}급여는 {money:,}입니다')\n",
        "else:\n",
        "  print('입력오류 데이터 존재합니다!')\n"
      ]
    },
    {
      "cell_type": "code",
      "source": [
        "# 물건 구매가를 입력 받아 할인이 적용된 지불 금액을 계산하는 프로그램을 작성하세요.\n",
        "\n",
        "buymoney = int(input('물건 구매가를 입력>> '))\n",
        "\n",
        "if buymoney >=300000:\n",
        "  rate = 10\n",
        "elif buymoney >=50000:\n",
        "  rate = 7.5\n",
        "elif buymoney >=10000:\n",
        "  rate = 5\n",
        "else:\n",
        "  rate = 0    #할인율\n",
        "\n",
        "# 데이터 처리\n",
        "discount = buymoney * (rate / 100)    #할인금액\n",
        "pay = buymoney - discount\n",
        "\n",
        "# 데이터 출력\n",
        "print(f'구매가 : {buymoney:,}원')\n",
        "print(f'할인율 : {rate:}%')\n",
        "print(f'할인 금액 : {discount:,}원')\n",
        "print(f'지불 금액 : {pay:,}원')\n"
      ],
      "metadata": {
        "colab": {
          "base_uri": "https://localhost:8080/"
        },
        "id": "brtg6HpyXE5z",
        "outputId": "2cd7f6f6-fc29-4d42-f84d-d4f65d4f2056"
      },
      "execution_count": null,
      "outputs": [
        {
          "output_type": "stream",
          "name": "stdout",
          "text": [
            "물건 구매가를 입력>> 1000000\n",
            "구매가 : 1,000,000원\n",
            "할인율 : 10%\n",
            "할인 금액 : 100,000.0원\n",
            "지불 금액 : 900,000.0원\n"
          ]
        }
      ]
    },
    {
      "cell_type": "markdown",
      "source": [
        "* 문자열의 길이 : len(문자열데이터)"
      ],
      "metadata": {
        "id": "ZnPtBUboZ5nG"
      }
    },
    {
      "cell_type": "code",
      "source": [
        "x = input('>> ')\n",
        "print(len(x))"
      ],
      "metadata": {
        "colab": {
          "base_uri": "https://localhost:8080/"
        },
        "id": "egMYWRYFZ_XO",
        "outputId": "c361e9b8-c767-4b10-cc92-385a03164c39"
      },
      "execution_count": null,
      "outputs": [
        {
          "output_type": "stream",
          "name": "stdout",
          "text": [
            ">> dfldsjflkdsjfldsjflafjdslfjdslkfjdskl\n",
            "37\n"
          ]
        }
      ]
    },
    {
      "cell_type": "code",
      "source": [
        "# 차량 2부제(홀짝제) 실시로, 차량번호가 홀수이면 홀수날, 짝수이면 짝수날 운행가능합니다.\n",
        "# 일(Day)와 차량번호 입력하여 운행 여부를 출력하세요.\n",
        "\n",
        "day = input('오늘은 몇 일?(입력:1 ~31)')\n",
        "\n",
        "if day >=1 and day <=31:\n",
        "  carnum = input('차량번호 4자리 입력?(예:1234): ')\n",
        "  if len(carnum) == 4:\n",
        "    if day % 2 == 0 :\n",
        "      print('짝수 차량 운행날입니다.')\n",
        "      if int(carnum) % 2 == 0:\n",
        "        print('운행 가능합니다')\n",
        "      else:\n",
        "        print('운행 불가능합니다')\n",
        "    else:\n",
        "      print('홀수 차량 운행날입니다.')\n",
        "      if int(carnum)%2 == 1:\n",
        "        print('운행 가능합니다')\n",
        "      else:\n",
        "        print('운행 불가능합니다')\n",
        "  else:\n",
        "    print('차량번호 입력이 잘못되었습니다')\n",
        "else:\n",
        "  print('일(day) 입력 오류입니다.')\n"
      ],
      "metadata": {
        "id": "5laCIpcKaHPR"
      },
      "execution_count": null,
      "outputs": []
    }
  ]
}