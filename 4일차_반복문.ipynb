{
  "nbformat": 4,
  "nbformat_minor": 0,
  "metadata": {
    "colab": {
      "provenance": [],
      "authorship_tag": "ABX9TyNV9aYSIL+Q/JC1R8a3YoIK"
    },
    "kernelspec": {
      "name": "python3",
      "display_name": "Python 3"
    },
    "language_info": {
      "name": "python"
    }
  },
  "cells": [
    {
      "cell_type": "markdown",
      "source": [
        "### while 문\n",
        "```\n",
        "초기값(시작값)\n",
        "while 조건식:\n",
        "    반복한 문장\n",
        "    증가값\n",
        "```\n",
        "\n"
      ],
      "metadata": {
        "id": "UhrpW4a5jFwq"
      }
    },
    {
      "cell_type": "code",
      "execution_count": null,
      "metadata": {
        "colab": {
          "base_uri": "https://localhost:8080/"
        },
        "id": "ALTDgl-VhiFO",
        "outputId": "e4e28cce-5838-48ce-ba3c-5fcd1935cc39"
      },
      "outputs": [
        {
          "output_type": "stream",
          "name": "stdout",
          "text": [
            "김정희 김정희 김정희 김정희 \n",
            "종료 13\n"
          ]
        }
      ],
      "source": [
        "# 본인이름을 10번 출력\n",
        "\n",
        "#시작값\n",
        "s = 1\n",
        "while s <=10:             # s = 1,2,3,......10 /  1, 4, 7, 10\n",
        "  print('김정희', end =\" \")\n",
        "  s = s + 3\n",
        "\n",
        "print('\\n종료',s)"
      ]
    },
    {
      "cell_type": "code",
      "source": [
        "# 본인이름을 10번 출력\n",
        "\n",
        "#시작값\n",
        "s = 1\n",
        "while s <=10:             # s = 1,2,3,......10 /  1, 4, 7, 10\n",
        "  print(s,'김정희', end =\"\\n\")\n",
        "  s = s + 1\n",
        "\n",
        "print('\\n종료',s)"
      ],
      "metadata": {
        "colab": {
          "base_uri": "https://localhost:8080/"
        },
        "id": "n7uemOZzkjkk",
        "outputId": "4d004343-97d2-461a-a35d-b8f10d1bc157"
      },
      "execution_count": null,
      "outputs": [
        {
          "output_type": "stream",
          "name": "stdout",
          "text": [
            "1 김정희\n",
            "2 김정희\n",
            "3 김정희\n",
            "4 김정희\n",
            "5 김정희\n",
            "6 김정희\n",
            "7 김정희\n",
            "8 김정희\n",
            "9 김정희\n",
            "10 김정희\n",
            "\n",
            "종료 11\n"
          ]
        }
      ]
    },
    {
      "cell_type": "code",
      "source": [
        "# 10, 20, 30, ..... 100\n",
        "\n",
        "x = 10\n",
        "while x <=100:\n",
        "  print(f'{x}', end=', ')\n",
        "  x = x + 10\n",
        "\n",
        "print('\\nbye')"
      ],
      "metadata": {
        "colab": {
          "base_uri": "https://localhost:8080/"
        },
        "id": "dfch1FIgl8bl",
        "outputId": "ef36081c-6a25-4515-9d49-02735a50ea8f"
      },
      "execution_count": null,
      "outputs": [
        {
          "output_type": "stream",
          "name": "stdout",
          "text": [
            "10, 20, 30, 40, 50, 60, 70, 80, 90, 100, \n",
            "bye\n"
          ]
        }
      ]
    },
    {
      "cell_type": "code",
      "source": [
        "# 1 ~ 10까지 합계산, 입력값까지 합계\n",
        "\n",
        "endvalue = int(input('종료값 입력>> '))\n",
        "\n",
        "n = 1\n",
        "hap = 0\n",
        "while n <= endvalue:\n",
        "  hap = hap + n    # hap += n\n",
        "  n = n + 1\n",
        "  # print(n,hap)\n",
        "print('합',hap)"
      ],
      "metadata": {
        "colab": {
          "base_uri": "https://localhost:8080/"
        },
        "id": "5xlbnuPMnRy-",
        "outputId": "4424ee14-6695-455c-a8a4-499197f67de1"
      },
      "execution_count": null,
      "outputs": [
        {
          "output_type": "stream",
          "name": "stdout",
          "text": [
            "종료값 입력>> 50000\n",
            "합 1250025000\n"
          ]
        }
      ]
    },
    {
      "cell_type": "code",
      "source": [
        "# 1부터 30 까지의 정수 중 홀수와 짝수를 구분하여 출력해보세요.\n",
        "\n",
        "n=1\n",
        "while n <=30:\n",
        "  if n % 2 == 1:\n",
        "    r ='홀수'\n",
        "  else:\n",
        "    r ='짝수'\n",
        "  print(f'{r} : {n}')\n",
        "  n = n + 1\n"
      ],
      "metadata": {
        "colab": {
          "base_uri": "https://localhost:8080/"
        },
        "id": "ZEpbp2v4pgWC",
        "outputId": "2c2de495-2288-4c86-cac9-ba018561979a"
      },
      "execution_count": null,
      "outputs": [
        {
          "output_type": "stream",
          "name": "stdout",
          "text": [
            "홀수 : 1\n",
            "짝수 : 2\n",
            "홀수 : 3\n",
            "짝수 : 4\n",
            "홀수 : 5\n",
            "짝수 : 6\n",
            "홀수 : 7\n",
            "짝수 : 8\n",
            "홀수 : 9\n",
            "짝수 : 10\n",
            "홀수 : 11\n",
            "짝수 : 12\n",
            "홀수 : 13\n",
            "짝수 : 14\n",
            "홀수 : 15\n",
            "짝수 : 16\n",
            "홀수 : 17\n",
            "짝수 : 18\n",
            "홀수 : 19\n",
            "짝수 : 20\n",
            "홀수 : 21\n",
            "짝수 : 22\n",
            "홀수 : 23\n",
            "짝수 : 24\n",
            "홀수 : 25\n",
            "짝수 : 26\n",
            "홀수 : 27\n",
            "짝수 : 28\n",
            "홀수 : 29\n",
            "짝수 : 30\n"
          ]
        }
      ]
    },
    {
      "cell_type": "code",
      "source": [
        "# 구구단 3단 출력, 단을 입력받아서 해당하는 구구단 출력, 입력 : 3 ~ 9\n",
        "\n",
        "dan = int(input('단입력>> '))\n",
        "\n",
        "if dan >=3 and dan <=9:\n",
        "  n = 1\n",
        "  print(f'*** {dan}단 ***')\n",
        "  while n <=9:\n",
        "    print(f'{dan} * {n} = {dan*n}')\n",
        "    n = n + 1\n",
        "else:\n",
        "  print('해당없음')"
      ],
      "metadata": {
        "colab": {
          "base_uri": "https://localhost:8080/"
        },
        "id": "lJiRtA6Tpo6z",
        "outputId": "a353c7ed-72f8-4b91-c957-583b8e215d85"
      },
      "execution_count": null,
      "outputs": [
        {
          "output_type": "stream",
          "name": "stdout",
          "text": [
            "단입력>> 5\n",
            "*** 5단 ***\n",
            "5 * 1 = 5\n",
            "5 * 2 = 10\n",
            "5 * 3 = 15\n",
            "5 * 4 = 20\n",
            "5 * 5 = 25\n",
            "5 * 6 = 30\n",
            "5 * 7 = 35\n",
            "5 * 8 = 40\n",
            "5 * 9 = 45\n"
          ]
        }
      ]
    },
    {
      "cell_type": "code",
      "source": [
        "# 구구단 3단 출력, 단을 입력받아서 해당하는 구구단 출력, 입력 : 3 ~ 9\n",
        "\n",
        "while True:\n",
        "  dan = input('단입력(종료:Q)>> ')\n",
        "\n",
        "  if dan == 'Q' or dan == 'q':\n",
        "    break\n",
        "\n",
        "  dan = int(dan)\n",
        "  if dan >=3 and dan <=9:\n",
        "    n = 1\n",
        "    print(f'*** {dan}단 ***')\n",
        "    while n <=9:\n",
        "      print(f'{dan} * {n} = {dan*n}')\n",
        "      n = n + 1\n",
        "  else:\n",
        "    print('해당없음')\n",
        "\n",
        "print('Bye~~~')"
      ],
      "metadata": {
        "colab": {
          "base_uri": "https://localhost:8080/"
        },
        "id": "VSB1Kl-grKKP",
        "outputId": "0a663902-6d10-4824-dd3c-9376b0b8c623"
      },
      "execution_count": null,
      "outputs": [
        {
          "output_type": "stream",
          "name": "stdout",
          "text": [
            "단입력(종료:Q)>> 9\n",
            "*** 9단 ***\n",
            "9 * 1 = 9\n",
            "9 * 2 = 18\n",
            "9 * 3 = 27\n",
            "9 * 4 = 36\n",
            "9 * 5 = 45\n",
            "9 * 6 = 54\n",
            "9 * 7 = 63\n",
            "9 * 8 = 72\n",
            "9 * 9 = 81\n",
            "단입력(종료:Q)>> 5\n",
            "*** 5단 ***\n",
            "5 * 1 = 5\n",
            "5 * 2 = 10\n",
            "5 * 3 = 15\n",
            "5 * 4 = 20\n",
            "5 * 5 = 25\n",
            "5 * 6 = 30\n",
            "5 * 7 = 35\n",
            "5 * 8 = 40\n",
            "5 * 9 = 45\n",
            "단입력(종료:Q)>> 4\n",
            "*** 4단 ***\n",
            "4 * 1 = 4\n",
            "4 * 2 = 8\n",
            "4 * 3 = 12\n",
            "4 * 4 = 16\n",
            "4 * 5 = 20\n",
            "4 * 6 = 24\n",
            "4 * 7 = 28\n",
            "4 * 8 = 32\n",
            "4 * 9 = 36\n",
            "단입력(종료:Q)>> 343\n",
            "해당없음\n",
            "단입력(종료:Q)>> Q\n",
            "Bye~~~\n"
          ]
        }
      ]
    },
    {
      "cell_type": "markdown",
      "source": [
        "## 미션문제"
      ],
      "metadata": {
        "id": "zot1yT9Mo6fA"
      }
    },
    {
      "cell_type": "code",
      "source": [
        "#  3, 6, 9로 끝나는 숫자에 ‘짝’을 출력하는 369게임을 작성하세요.\n",
        "\n",
        "invalue = int(input('1부터 얼마까지 진행할까요?(예:20)>> '))\n",
        "\n",
        "n = 1\n",
        "while n <=invalue:\n",
        "  if n % 10 ==3 or n % 10 ==6 or n % 10 ==9:\n",
        "    print('짝', end =\" \")\n",
        "  else:\n",
        "    print(n, end =\" \")\n",
        "  n = n + 1"
      ],
      "metadata": {
        "colab": {
          "base_uri": "https://localhost:8080/"
        },
        "id": "AK897bUjxaEW",
        "outputId": "a17c1163-0a16-40dc-a323-09b0408a6d19"
      },
      "execution_count": null,
      "outputs": [
        {
          "output_type": "stream",
          "name": "stdout",
          "text": [
            "1부터 얼마까지 진행할까요?(예:20)>> 20\n",
            "1 2 짝 4 5 짝 7 8 짝 10 11 12 짝 14 15 짝 17 18 짝 20 "
          ]
        }
      ]
    },
    {
      "cell_type": "code",
      "source": [
        "# 사용자가 암호를 입력하고 프로그램에서 암호가 맞는지를 체크하는 프로그램을 만들어보세요.\n",
        "\n",
        "while True:\n",
        "  pw = input('비밀번호: ')\n",
        "  if pw == 'python':\n",
        "    break\n",
        "\n",
        "print('로그인 성공!')"
      ],
      "metadata": {
        "colab": {
          "base_uri": "https://localhost:8080/"
        },
        "id": "AoVspP9nx9aE",
        "outputId": "2d86a37e-43e8-4867-ebfe-610dcc768e69"
      },
      "execution_count": null,
      "outputs": [
        {
          "output_type": "stream",
          "name": "stdout",
          "text": [
            "비밀번호: ㄷㄷㄱ\n",
            "비밀번호: ㄷㄱㄷㄱ\n",
            "비밀번호: ㄷㄱㄷㄱ\n",
            "비밀번호: python\n",
            "로그인 성공!\n"
          ]
        }
      ]
    },
    {
      "cell_type": "code",
      "source": [
        "pw=''\n",
        "\n",
        "while pw !='python':\n",
        "  pw = input('비밀번호: ')\n",
        "\n",
        "print('로그인 성공!')"
      ],
      "metadata": {
        "colab": {
          "base_uri": "https://localhost:8080/"
        },
        "id": "O-Gy53ODypod",
        "outputId": "a0de53bb-f83c-4d03-a992-e2360178df2a"
      },
      "execution_count": null,
      "outputs": [
        {
          "output_type": "stream",
          "name": "stdout",
          "text": [
            "비밀번호: dfd\n",
            "비밀번호: dfdf\n",
            "비밀번호: python\n",
            "로그인 성공!\n"
          ]
        }
      ]
    },
    {
      "cell_type": "code",
      "source": [
        "# 음식점 직원 서비스에 대한 고객 만족도에 따라 팁을 계산하는 프로그램을 작성해보세요.\n",
        "# 팁 계산 방법, 매우 만족 : 음식 값의 20%, 만족 : 음식 값의 10%, 불만족 : 음식 값의 5%\n",
        "\n",
        "print('서비스 만족도')\n",
        "print('1 : 매우만족 \\n2 : 만족 \\n3 : 불만족')\n",
        "\n",
        "while True:\n",
        "  survey = int(input('\\n서비스 만족도를 입력해주세요(예: 1 또는 2 또는 3) : '))\n",
        "  price = int(input('음식값을 입력해 주세요(예:8000) : '))\n",
        "\n",
        "  if survey == 1 :\n",
        "    tip = price * 0.2\n",
        "    service = '매우만족'\n",
        "  elif survey == 2 :\n",
        "    tip = price * 0.1\n",
        "    service = '만족'\n",
        "  else:\n",
        "    tip = price * 0.05\n",
        "    service = '불만족'\n",
        "\n",
        "  print(f'서비스 만족도 : {service}, 팀 : {tip:,.0f}원')\n",
        "\n",
        "  exit = input(\"\\n계속 하시겠습니까?(종료:N) : \")\n",
        "  if exit == 'N':\n",
        "    break\n",
        "\n",
        "print('감사합니다!!')\n"
      ],
      "metadata": {
        "colab": {
          "base_uri": "https://localhost:8080/"
        },
        "id": "B6Pn8Fb1pD_D",
        "outputId": "155fe919-c8bc-4bf5-d1a7-f47e65696be8"
      },
      "execution_count": 1,
      "outputs": [
        {
          "output_type": "stream",
          "name": "stdout",
          "text": [
            "서비스 만족도\n",
            "1 : 매우만족 \n",
            "2 : 만족 \n",
            "3 : 불만족\n",
            "\n",
            "서비스 만족도를 입력해주세요(예: 1 또는 2 또는 3) : 1\n",
            "음식값을 입력해 주세요(예:8000) : 3434343\n",
            "서비스 만족도 : 매우만족, 팀 : 686,869원\n",
            "\n",
            "계속 하시겠습니까?(종료:N) : N\n",
            "감사합니다!!\n"
          ]
        }
      ]
    }
  ]
}